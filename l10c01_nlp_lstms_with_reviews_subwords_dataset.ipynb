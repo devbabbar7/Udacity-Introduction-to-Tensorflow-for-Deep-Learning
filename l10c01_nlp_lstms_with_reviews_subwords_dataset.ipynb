{
  "cells": [
    {
      "cell_type": "markdown",
      "metadata": {
        "id": "view-in-github",
        "colab_type": "text"
      },
      "source": [
        "<a href=\"https://colab.research.google.com/github/devbabbar7/Udacity-Introduction-to-Tensorflow-for-Deep-Learning/blob/main/l10c01_nlp_lstms_with_reviews_subwords_dataset.ipynb\" target=\"_parent\"><img src=\"https://colab.research.google.com/assets/colab-badge.svg\" alt=\"Open In Colab\"/></a>"
      ]
    },
    {
      "cell_type": "markdown",
      "metadata": {
        "id": "hAclqSm3OOml"
      },
      "source": [
        "# Using LSTMs with the subwords dataset\n"
      ]
    },
    {
      "cell_type": "markdown",
      "metadata": {
        "id": "KTVx8__oGR9J"
      },
      "source": [
        "In this colab, you'll compare the results of using a model with an Embedding layer and then adding bidirectional LSTM layers.\n",
        "\n",
        "You'll work with the dataset of subwords for the combined Yelp and Amazon reviews.\n",
        "\n",
        "You'll use your models to predict the sentiment of new reviews."
      ]
    },
    {
      "cell_type": "code",
      "execution_count": 1,
      "metadata": {
        "id": "L62G7LTwNzoD"
      },
      "outputs": [],
      "source": [
        "import tensorflow as tf\n",
        "\n",
        "from tensorflow.keras.preprocessing.sequence import pad_sequences"
      ]
    },
    {
      "cell_type": "markdown",
      "metadata": {
        "id": "hLcl0QHvDjTV"
      },
      "source": [
        "# Get the dataset\n",
        "\n",
        "Start by getting the dataset containing Amazon and Yelp reviews, with their related sentiment (1 for positive, 0 for negative). This dataset was originally extracted from [here](https://www.kaggle.com/marklvl/sentiment-labelled-sentences-data-set).\n"
      ]
    },
    {
      "cell_type": "code",
      "execution_count": 2,
      "metadata": {
        "id": "nCOtiRJZbxCH",
        "colab": {
          "base_uri": "https://localhost:8080/"
        },
        "outputId": "a6efe217-a29a-4ed4-c617-ba8ad3509a8a"
      },
      "outputs": [
        {
          "output_type": "stream",
          "name": "stdout",
          "text": [
            "--2023-06-04 19:36:03--  https://drive.google.com/uc?id=13ySLC_ue6Umt9RJYSeM2t-V0kCv-4C-P\n",
            "Resolving drive.google.com (drive.google.com)... 74.125.202.139, 74.125.202.138, 74.125.202.113, ...\n",
            "Connecting to drive.google.com (drive.google.com)|74.125.202.139|:443... connected.\n",
            "HTTP request sent, awaiting response... 303 See Other\n",
            "Location: https://doc-08-ak-docs.googleusercontent.com/docs/securesc/ha0ro937gcuc7l7deffksulhg5h7mbp1/52t2m4e6fvuge3h85cpkaoveaffdv866/1685907300000/11118900490791463723/*/13ySLC_ue6Umt9RJYSeM2t-V0kCv-4C-P?uuid=8d5dec09-5804-4245-b45c-de81a2e538d2 [following]\n",
            "Warning: wildcards not supported in HTTP.\n",
            "--2023-06-04 19:36:03--  https://doc-08-ak-docs.googleusercontent.com/docs/securesc/ha0ro937gcuc7l7deffksulhg5h7mbp1/52t2m4e6fvuge3h85cpkaoveaffdv866/1685907300000/11118900490791463723/*/13ySLC_ue6Umt9RJYSeM2t-V0kCv-4C-P?uuid=8d5dec09-5804-4245-b45c-de81a2e538d2\n",
            "Resolving doc-08-ak-docs.googleusercontent.com (doc-08-ak-docs.googleusercontent.com)... 64.233.182.132, 2607:f8b0:4001:c0a::84\n",
            "Connecting to doc-08-ak-docs.googleusercontent.com (doc-08-ak-docs.googleusercontent.com)|64.233.182.132|:443... connected.\n",
            "HTTP request sent, awaiting response... 200 OK\n",
            "Length: 127831 (125K) [text/csv]\n",
            "Saving to: ‘/tmp/sentiment.csv’\n",
            "\n",
            "/tmp/sentiment.csv  100%[===================>] 124.83K  --.-KB/s    in 0.001s  \n",
            "\n",
            "2023-06-04 19:36:03 (145 MB/s) - ‘/tmp/sentiment.csv’ saved [127831/127831]\n",
            "\n"
          ]
        }
      ],
      "source": [
        "!wget --no-check-certificate \\\n",
        "    https://drive.google.com/uc?id=13ySLC_ue6Umt9RJYSeM2t-V0kCv-4C-P -O /tmp/sentiment.csv"
      ]
    },
    {
      "cell_type": "code",
      "execution_count": 3,
      "metadata": {
        "id": "XuqER_KMD-xS"
      },
      "outputs": [],
      "source": [
        "import pandas as pd\n",
        "\n",
        "dataset = pd.read_csv('/tmp/sentiment.csv')\n",
        "\n",
        "# Extract out sentences and labels\n",
        "sentences = dataset['text'].tolist()\n",
        "labels = dataset['sentiment'].tolist()"
      ]
    },
    {
      "cell_type": "code",
      "execution_count": 4,
      "metadata": {
        "id": "Tbsx1T2CXPNO",
        "colab": {
          "base_uri": "https://localhost:8080/"
        },
        "outputId": "fc904c44-3cee-4d96-d7e1-be0308c392e9"
      },
      "outputs": [
        {
          "output_type": "stream",
          "name": "stdout",
          "text": [
            "So there is no way for me to plug it in here in the US unless I go by a converter.\n",
            "0\n",
            "\n",
            "\n",
            "Good case Excellent value.\n",
            "1\n",
            "\n",
            "\n"
          ]
        }
      ],
      "source": [
        "# Print some example sentences and labels\n",
        "for x in range(2):\n",
        "  print(sentences[x])\n",
        "  print(labels[x])\n",
        "  print(\"\\n\")"
      ]
    },
    {
      "cell_type": "markdown",
      "metadata": {
        "id": "33AthPiALFZK"
      },
      "source": [
        "#Create a subwords dataset\n",
        "\n",
        "We will use the Amazon and Yelp reviews dataset with tensorflow_datasets's SubwordTextEncoder functionality. \n",
        "\n",
        "SubwordTextEncoder.build_from_corpus() will create a tokenizer for us. You could also use this functionality to get subwords from a much larger corpus of text as well, but we'll just use our existing dataset here.\n",
        "\n",
        "We'll create a subword vocab_size of only the 1,000 most common subwords, as well as cutting off each subword to be at most 5 characters.\n",
        "\n",
        "Check out the related documentation for the the subword text encoder [here](https://www.tensorflow.org/datasets/api_docs/python/tfds/features/text/SubwordTextEncoder#build_from_corpus)."
      ]
    },
    {
      "cell_type": "code",
      "execution_count": 5,
      "metadata": {
        "id": "6NaicNCcLYyf",
        "colab": {
          "base_uri": "https://localhost:8080/"
        },
        "outputId": "04ced742-31b0-44df-f380-250f16b3c2b3"
      },
      "outputs": [
        {
          "output_type": "stream",
          "name": "stdout",
          "text": [
            "Vocab size is  999\n"
          ]
        }
      ],
      "source": [
        "import tensorflow_datasets as tfds\n",
        "\n",
        "vocab_size = 1000\n",
        "tokenizer = tfds.deprecated.text.SubwordTextEncoder.build_from_corpus(sentences, vocab_size, max_subword_length=5)\n",
        "\n",
        "# How big is the vocab size?\n",
        "print(\"Vocab size is \", tokenizer.vocab_size)"
      ]
    },
    {
      "cell_type": "code",
      "execution_count": 6,
      "metadata": {
        "id": "xvRVoeIVLevh",
        "colab": {
          "base_uri": "https://localhost:8080/"
        },
        "outputId": "4d9341fb-14e3-4cea-f067-1ca623660f11"
      },
      "outputs": [
        {
          "output_type": "stream",
          "name": "stdout",
          "text": [
            "I have to jiggle the plug to get it to line up right to get decent volume.\n",
            "[4, 31, 6, 849, 162, 450, 12, 1, 600, 438, 775, 6, 175, 14, 6, 55, 213, 159, 474, 775, 6, 175, 614, 380, 295, 148, 72, 789]\n"
          ]
        }
      ],
      "source": [
        "# Check that the tokenizer works appropriately\n",
        "num = 5\n",
        "print(sentences[num])\n",
        "encoded = tokenizer.encode(sentences[num])\n",
        "print(encoded)"
      ]
    },
    {
      "cell_type": "code",
      "execution_count": 7,
      "metadata": {
        "id": "G_vacTCifklV",
        "colab": {
          "base_uri": "https://localhost:8080/"
        },
        "outputId": "31d60782-6f9e-4232-dbbf-475c2239d549"
      },
      "outputs": [
        {
          "output_type": "stream",
          "name": "stdout",
          "text": [
            "I \n",
            "have \n",
            "to \n",
            "j\n",
            "ig\n",
            "gl\n",
            "e \n",
            "the \n",
            "pl\n",
            "ug\n",
            " \n",
            "to \n",
            "get \n",
            "it \n",
            "to \n",
            "li\n",
            "ne \n",
            "up \n",
            "right\n",
            " \n",
            "to \n",
            "get \n",
            "dec\n",
            "ent \n",
            "vo\n",
            "lu\n",
            "me\n",
            ".\n"
          ]
        }
      ],
      "source": [
        "# Separately print out each subword, decoded\n",
        "for i in encoded:\n",
        "  print(tokenizer.decode([i]))"
      ]
    },
    {
      "cell_type": "markdown",
      "metadata": {
        "id": "cT528cptLupl"
      },
      "source": [
        "## Replace sentence data with encoded subwords\n",
        "\n",
        "Now, we'll create the sequences to be used for training by actually encoding each of the individual sentences. This is equivalent to `text_to_sequences` with the `Tokenizer` we used in earlier exercises."
      ]
    },
    {
      "cell_type": "code",
      "execution_count": 8,
      "metadata": {
        "id": "lkseMhxjL09F"
      },
      "outputs": [],
      "source": [
        "for i, sentence in enumerate(sentences):\n",
        "  sentences[i] = tokenizer.encode(sentence)"
      ]
    },
    {
      "cell_type": "code",
      "execution_count": 9,
      "metadata": {
        "id": "y21yRuzmL43U",
        "colab": {
          "base_uri": "https://localhost:8080/"
        },
        "outputId": "2fffb655-7ebd-47a5-c936-41d9e77e7c1d"
      },
      "outputs": [
        {
          "output_type": "stream",
          "name": "stdout",
          "text": [
            "[4, 31, 6, 849, 162, 450, 12, 1, 600, 438, 775, 6, 175, 14, 6, 55, 213, 159, 474, 775, 6, 175, 614, 380, 295, 148, 72, 789]\n"
          ]
        }
      ],
      "source": [
        "# Check the sentences are appropriately replaced\n",
        "print(sentences[5])"
      ]
    },
    {
      "cell_type": "markdown",
      "metadata": {
        "id": "8HrcPHESMBMs"
      },
      "source": [
        "## Final pre-processing\n",
        "\n",
        "Before training, we still need to pad the sequences, as well as split into training and test sets."
      ]
    },
    {
      "cell_type": "code",
      "execution_count": 10,
      "metadata": {
        "id": "50-hTsogLSL-"
      },
      "outputs": [],
      "source": [
        "import numpy as np\n",
        "\n",
        "max_length = 50\n",
        "trunc_type='post'\n",
        "padding_type='post'\n",
        "\n",
        "# Pad all sequences\n",
        "sequences_padded = pad_sequences(sentences, maxlen=max_length, \n",
        "                                 padding=padding_type, truncating=trunc_type)\n",
        "\n",
        "# Separate out the sentences and labels into training and test sets\n",
        "training_size = int(len(sentences) * 0.8)\n",
        "\n",
        "training_sequences = sequences_padded[0:training_size]\n",
        "testing_sequences = sequences_padded[training_size:]\n",
        "training_labels = labels[0:training_size]\n",
        "testing_labels = labels[training_size:]\n",
        "\n",
        "# Make labels into numpy arrays for use with the network later\n",
        "training_labels_final = np.array(training_labels)\n",
        "testing_labels_final = np.array(testing_labels)"
      ]
    },
    {
      "cell_type": "markdown",
      "metadata": {
        "id": "PahZm7YEQ8EI"
      },
      "source": [
        "# Create the model using an Embedding"
      ]
    },
    {
      "cell_type": "code",
      "execution_count": 11,
      "metadata": {
        "id": "c_nyQeI0RCCv",
        "colab": {
          "base_uri": "https://localhost:8080/"
        },
        "outputId": "0dd81d98-8f71-4eb9-b2ac-6d397f4183af"
      },
      "outputs": [
        {
          "output_type": "stream",
          "name": "stdout",
          "text": [
            "Model: \"sequential\"\n",
            "_________________________________________________________________\n",
            " Layer (type)                Output Shape              Param #   \n",
            "=================================================================\n",
            " embedding (Embedding)       (None, 50, 16)            16000     \n",
            "                                                                 \n",
            " global_average_pooling1d (G  (None, 16)               0         \n",
            " lobalAveragePooling1D)                                          \n",
            "                                                                 \n",
            " dense (Dense)               (None, 6)                 102       \n",
            "                                                                 \n",
            " dense_1 (Dense)             (None, 1)                 7         \n",
            "                                                                 \n",
            "=================================================================\n",
            "Total params: 16,109\n",
            "Trainable params: 16,109\n",
            "Non-trainable params: 0\n",
            "_________________________________________________________________\n"
          ]
        }
      ],
      "source": [
        "embedding_dim = 16\n",
        "\n",
        "model = tf.keras.Sequential([\n",
        "    tf.keras.layers.Embedding(vocab_size, embedding_dim, input_length=max_length),\n",
        "    tf.keras.layers.GlobalAveragePooling1D(), \n",
        "    tf.keras.layers.Dense(6, activation='relu'),\n",
        "    tf.keras.layers.Dense(1, activation='sigmoid')\n",
        "])\n",
        "\n",
        "model.summary()"
      ]
    },
    {
      "cell_type": "markdown",
      "metadata": {
        "id": "3WRXrx8BRO2L"
      },
      "source": [
        "# Train the model"
      ]
    },
    {
      "cell_type": "code",
      "execution_count": 12,
      "metadata": {
        "id": "oBKyVYvxRQ_9",
        "colab": {
          "base_uri": "https://localhost:8080/"
        },
        "outputId": "c9aea7f8-4648-4e79-e6a4-2f670375c379"
      },
      "outputs": [
        {
          "output_type": "stream",
          "name": "stdout",
          "text": [
            "Epoch 1/30\n",
            "50/50 [==============================] - 15s 156ms/step - loss: 0.6904 - accuracy: 0.5223 - val_loss: 0.7006 - val_accuracy: 0.4160\n",
            "Epoch 2/30\n",
            "50/50 [==============================] - 4s 71ms/step - loss: 0.6863 - accuracy: 0.5399 - val_loss: 0.6992 - val_accuracy: 0.4411\n",
            "Epoch 3/30\n",
            "50/50 [==============================] - 3s 67ms/step - loss: 0.6810 - accuracy: 0.5587 - val_loss: 0.6940 - val_accuracy: 0.4837\n",
            "Epoch 4/30\n",
            "50/50 [==============================] - 3s 55ms/step - loss: 0.6723 - accuracy: 0.5989 - val_loss: 0.6905 - val_accuracy: 0.4962\n",
            "Epoch 5/30\n",
            "50/50 [==============================] - 2s 41ms/step - loss: 0.6595 - accuracy: 0.6277 - val_loss: 0.6787 - val_accuracy: 0.5263\n",
            "Epoch 6/30\n",
            "50/50 [==============================] - 2s 45ms/step - loss: 0.6404 - accuracy: 0.6767 - val_loss: 0.6658 - val_accuracy: 0.5589\n",
            "Epoch 7/30\n",
            "50/50 [==============================] - 0s 8ms/step - loss: 0.6158 - accuracy: 0.7094 - val_loss: 0.6528 - val_accuracy: 0.5840\n",
            "Epoch 8/30\n",
            "50/50 [==============================] - 1s 19ms/step - loss: 0.5841 - accuracy: 0.7772 - val_loss: 0.6317 - val_accuracy: 0.6366\n",
            "Epoch 9/30\n",
            "50/50 [==============================] - 1s 13ms/step - loss: 0.5500 - accuracy: 0.7872 - val_loss: 0.5994 - val_accuracy: 0.7118\n",
            "Epoch 10/30\n",
            "50/50 [==============================] - 1s 20ms/step - loss: 0.5146 - accuracy: 0.8311 - val_loss: 0.5893 - val_accuracy: 0.6892\n",
            "Epoch 11/30\n",
            "50/50 [==============================] - 1s 12ms/step - loss: 0.4827 - accuracy: 0.8343 - val_loss: 0.5614 - val_accuracy: 0.7419\n",
            "Epoch 12/30\n",
            "50/50 [==============================] - 1s 11ms/step - loss: 0.4493 - accuracy: 0.8475 - val_loss: 0.5527 - val_accuracy: 0.7393\n",
            "Epoch 13/30\n",
            "50/50 [==============================] - 1s 19ms/step - loss: 0.4188 - accuracy: 0.8600 - val_loss: 0.5376 - val_accuracy: 0.7419\n",
            "Epoch 14/30\n",
            "50/50 [==============================] - 1s 23ms/step - loss: 0.3924 - accuracy: 0.8726 - val_loss: 0.5253 - val_accuracy: 0.7318\n",
            "Epoch 15/30\n",
            "50/50 [==============================] - 0s 5ms/step - loss: 0.3692 - accuracy: 0.8757 - val_loss: 0.5272 - val_accuracy: 0.7393\n",
            "Epoch 16/30\n",
            "50/50 [==============================] - 1s 13ms/step - loss: 0.3483 - accuracy: 0.8763 - val_loss: 0.4942 - val_accuracy: 0.7669\n",
            "Epoch 17/30\n",
            "50/50 [==============================] - 1s 12ms/step - loss: 0.3310 - accuracy: 0.8927 - val_loss: 0.5167 - val_accuracy: 0.7544\n",
            "Epoch 18/30\n",
            "50/50 [==============================] - 0s 8ms/step - loss: 0.3126 - accuracy: 0.8945 - val_loss: 0.5173 - val_accuracy: 0.7544\n",
            "Epoch 19/30\n",
            "50/50 [==============================] - 1s 17ms/step - loss: 0.2986 - accuracy: 0.8996 - val_loss: 0.5112 - val_accuracy: 0.7594\n",
            "Epoch 20/30\n",
            "50/50 [==============================] - 0s 9ms/step - loss: 0.2838 - accuracy: 0.9027 - val_loss: 0.5075 - val_accuracy: 0.7544\n",
            "Epoch 21/30\n",
            "50/50 [==============================] - 1s 16ms/step - loss: 0.2729 - accuracy: 0.9134 - val_loss: 0.5251 - val_accuracy: 0.7569\n",
            "Epoch 22/30\n",
            "50/50 [==============================] - 0s 4ms/step - loss: 0.2598 - accuracy: 0.9178 - val_loss: 0.5028 - val_accuracy: 0.7519\n",
            "Epoch 23/30\n",
            "50/50 [==============================] - 0s 5ms/step - loss: 0.2505 - accuracy: 0.9203 - val_loss: 0.5165 - val_accuracy: 0.7594\n",
            "Epoch 24/30\n",
            "50/50 [==============================] - 0s 5ms/step - loss: 0.2432 - accuracy: 0.9165 - val_loss: 0.5243 - val_accuracy: 0.7619\n",
            "Epoch 25/30\n",
            "50/50 [==============================] - 0s 9ms/step - loss: 0.2317 - accuracy: 0.9222 - val_loss: 0.5297 - val_accuracy: 0.7619\n",
            "Epoch 26/30\n",
            "50/50 [==============================] - 0s 9ms/step - loss: 0.2236 - accuracy: 0.9366 - val_loss: 0.5450 - val_accuracy: 0.7544\n",
            "Epoch 27/30\n",
            "50/50 [==============================] - 0s 8ms/step - loss: 0.2156 - accuracy: 0.9303 - val_loss: 0.5231 - val_accuracy: 0.7594\n",
            "Epoch 28/30\n",
            "50/50 [==============================] - 0s 9ms/step - loss: 0.2097 - accuracy: 0.9335 - val_loss: 0.5541 - val_accuracy: 0.7594\n",
            "Epoch 29/30\n",
            "50/50 [==============================] - 1s 12ms/step - loss: 0.2022 - accuracy: 0.9335 - val_loss: 0.5486 - val_accuracy: 0.7569\n",
            "Epoch 30/30\n",
            "50/50 [==============================] - 0s 9ms/step - loss: 0.1948 - accuracy: 0.9391 - val_loss: 0.5346 - val_accuracy: 0.7669\n"
          ]
        }
      ],
      "source": [
        "num_epochs = 30\n",
        "model.compile(loss='binary_crossentropy',optimizer='adam',metrics=['accuracy'])\n",
        "history = model.fit(training_sequences, training_labels_final, epochs=num_epochs, validation_data=(testing_sequences, testing_labels_final))\n"
      ]
    },
    {
      "cell_type": "markdown",
      "metadata": {
        "id": "HhLPbUl2AZ0y"
      },
      "source": [
        "# Plot the accuracy and loss"
      ]
    },
    {
      "cell_type": "code",
      "execution_count": 13,
      "metadata": {
        "id": "jzBM1PpJAYfD",
        "colab": {
          "base_uri": "https://localhost:8080/",
          "height": 881
        },
        "outputId": "8a048f81-367c-4013-b915-886a8e8bd0fc"
      },
      "outputs": [
        {
          "output_type": "display_data",
          "data": {
            "text/plain": [
              "<Figure size 640x480 with 1 Axes>"
            ],
            "image/png": "[encoded data removed]"
          },
          "metadata": {}
        },
        {
          "output_type": "display_data",
          "data": {
            "text/plain": [
              "<Figure size 640x480 with 1 Axes>"
            ],
            "image/png": "[encoded data removed]"
          },
          "metadata": {}
        }
      ],
      "source": [
        "import matplotlib.pyplot as plt\n",
        "\n",
        "\n",
        "def plot_graphs(history, string):\n",
        "  plt.plot(history.history[string])\n",
        "  plt.plot(history.history['val_'+string])\n",
        "  plt.xlabel(\"Epochs\")\n",
        "  plt.ylabel(string)\n",
        "  plt.legend([string, 'val_'+string])\n",
        "  plt.show()\n",
        "  \n",
        "plot_graphs(history, \"accuracy\")\n",
        "plot_graphs(history, \"loss\")"
      ]
    },
    {
      "cell_type": "markdown",
      "metadata": {
        "id": "Fwr5inBiWffb"
      },
      "source": [
        "# Define a function to predict the sentiment of reviews\n",
        "\n",
        "We'll be creating models with some differences and will use each model to predict the sentiment of some new reviews.\n",
        "\n",
        "To save time, create a function that will take in a model and some new reviews, and print out the sentiment of each reviews.\n",
        "\n",
        "The higher the sentiment value is to 1, the more positive the review is."
      ]
    },
    {
      "cell_type": "code",
      "execution_count": 14,
      "metadata": {
        "id": "aPNOYiiaha2y"
      },
      "outputs": [],
      "source": [
        "# Define a function to take a series of reviews\n",
        "# and predict whether each one is a positive or negative review\n",
        "\n",
        "# max_length = 100 # previously defined\n",
        "\n",
        "def predict_review(model, new_sentences, maxlen=max_length, show_padded_sequence=True ):\n",
        "  # Keep the original sentences so that we can keep using them later\n",
        "  # Create an array to hold the encoded sequences\n",
        "  new_sequences = []\n",
        "\n",
        "  # Convert the new reviews to sequences\n",
        "  for i, frvw in enumerate(new_sentences):\n",
        "    new_sequences.append(tokenizer.encode(frvw))\n",
        "\n",
        "  trunc_type='post' \n",
        "  padding_type='post'\n",
        "\n",
        "  # Pad all sequences for the new reviews\n",
        "  new_reviews_padded = pad_sequences(new_sequences, maxlen=max_length, \n",
        "                                 padding=padding_type, truncating=trunc_type)             \n",
        "\n",
        "  classes = model.predict(new_reviews_padded)\n",
        "\n",
        "  # The closer the class is to 1, the more positive the review is\n",
        "  for x in range(len(new_sentences)):\n",
        "    \n",
        "    # We can see the padded sequence if desired\n",
        "    # Print the sequence\n",
        "    if (show_padded_sequence):\n",
        "      print(new_reviews_padded[x])\n",
        "    # Print the review as text\n",
        "    print(new_sentences[x])\n",
        "    # Print its predicted class\n",
        "    print(classes[x])\n",
        "    print(\"\\n\")"
      ]
    },
    {
      "cell_type": "code",
      "execution_count": 15,
      "metadata": {
        "id": "Qg-maex27KPW",
        "colab": {
          "base_uri": "https://localhost:8080/"
        },
        "outputId": "a3c7f662-d833-4aad-f4bb-88cf48001d79"
      },
      "outputs": [
        {
          "output_type": "stream",
          "name": "stdout",
          "text": [
            "1/1 [==============================] - 0s 74ms/step\n",
            "[  4 281  16  25   0   0   0   0   0   0   0   0   0   0   0   0   0   0\n",
            "   0   0   0   0   0   0   0   0   0   0   0   0   0   0   0   0   0   0\n",
            "   0   0   0   0   0   0   0   0   0   0   0   0   0   0]\n",
            "I love this phone\n",
            "[0.8589019]\n",
            "\n",
            "\n",
            "[812 227 864 100 775   9 525 843   0   0   0   0   0   0   0   0   0   0\n",
            "   0   0   0   0   0   0   0   0   0   0   0   0   0   0   0   0   0   0\n",
            "   0   0   0   0   0   0   0   0   0   0   0   0   0   0]\n",
            "Everything was cold\n",
            "[0.1230161]\n",
            "\n",
            "\n",
            "[812 227 864 100 775   9 109   8 333 731  24  61   4 171  59  77   0   0\n",
            "   0   0   0   0   0   0   0   0   0   0   0   0   0   0   0   0   0   0\n",
            "   0   0   0   0   0   0   0   0   0   0   0   0   0   0]\n",
            "Everything was hot exactly as I wanted\n",
            "[0.2905341]\n",
            "\n",
            "\n",
            "[812 227 864 100 775   9 157 359 853   0   0   0   0   0   0   0   0   0\n",
            "   0   0   0   0   0   0   0   0   0   0   0   0   0   0   0   0   0   0\n",
            "   0   0   0   0   0   0   0   0   0   0   0   0   0   0]\n",
            "Everything was green\n",
            "[0.09727247]\n",
            "\n",
            "\n",
            "[  1 109 228 540 237 635 241 423 340  89 298   0   0   0   0   0   0   0\n",
            "   0   0   0   0   0   0   0   0   0   0   0   0   0   0   0   0   0   0\n",
            "   0   0   0   0   0   0   0   0   0   0   0   0   0   0]\n",
            "the host seated us immediately\n",
            "[0.37835106]\n",
            "\n",
            "\n",
            "[154 242  47 635 341  12 569 547 147 319 775 125  85   0   0   0   0   0\n",
            "   0   0   0   0   0   0   0   0   0   0   0   0   0   0   0   0   0   0\n",
            "   0   0   0   0   0   0   0   0   0   0   0   0   0   0]\n",
            "they gave us free chocolate cake\n",
            "[0.670191]\n",
            "\n",
            "\n",
            "[158 190 853 782   8 607 775 210 232 146 775 470  67 305 101  15   1 328\n",
            " 296  26  19   1 661 641 195   0   0   0   0   0   0   0   0   0   0   0\n",
            "   0   0   0   0   0   0   0   0   0   0   0   0   0   0]\n",
            "we couldn't hear each other talk because of the shouting in the kitchen\n",
            "[0.03944829]\n",
            "\n",
            "\n"
          ]
        }
      ],
      "source": [
        "# Use the model to predict some reviews   \n",
        "fake_reviews = [\"I love this phone\", \n",
        "                \"Everything was cold\",\n",
        "                \"Everything was hot exactly as I wanted\", \n",
        "                \"Everything was green\", \n",
        "                \"the host seated us immediately\",\n",
        "                \"they gave us free chocolate cake\", \n",
        "                \"we couldn't hear each other talk because of the shouting in the kitchen\"\n",
        "              ]\n",
        "\n",
        "predict_review(model, fake_reviews)\n"
      ]
    },
    {
      "cell_type": "markdown",
      "metadata": {
        "id": "ycJKbMq3K4iy"
      },
      "source": [
        "# Define a function to train and show the results of models with different layers\n",
        "\n",
        "In the rest of this colab, we will define models, and then see the results. \n",
        "\n",
        "Define a function that will take the model, compile it, train it, graph the accuracy and loss, and then predict some results."
      ]
    },
    {
      "cell_type": "code",
      "execution_count": 16,
      "metadata": {
        "id": "PevUcINXK3gn"
      },
      "outputs": [],
      "source": [
        "def fit_model_now (model, sentences) :\n",
        "  model.compile(loss='binary_crossentropy',optimizer='adam',metrics=['accuracy'])\n",
        "  model.summary()\n",
        "  history = model.fit(training_sequences, training_labels_final, epochs=num_epochs, \n",
        "                      validation_data=(testing_sequences, testing_labels_final))\n",
        "  return history\n",
        "\n",
        "def plot_results (history):\n",
        "  plot_graphs(history, \"accuracy\")\n",
        "  plot_graphs(history, \"loss\")\n",
        "\n",
        "def fit_model_and_show_results (model, sentences):\n",
        "  history = fit_model_now(model, sentences)\n",
        "  plot_results(history)\n",
        "  predict_review(model, sentences)"
      ]
    },
    {
      "cell_type": "markdown",
      "metadata": {
        "id": "U13JBiJUG1oq"
      },
      "source": [
        "# Add a bidirectional LSTM\n",
        "\n",
        "Create a new model that uses a bidirectional LSTM.\n",
        "\n",
        "Then use the function we have already defined to compile the model, train it, graph the accuracy and loss, then predict some results."
      ]
    },
    {
      "cell_type": "code",
      "execution_count": 17,
      "metadata": {
        "id": "scTUsFPAG4zP",
        "colab": {
          "base_uri": "https://localhost:8080/",
          "height": 1000
        },
        "outputId": "e62daf1a-6a0c-416d-8c2e-d3af73ec1019"
      },
      "outputs": [
        {
          "output_type": "stream",
          "name": "stdout",
          "text": [
            "Model: \"sequential_1\"\n",
            "_________________________________________________________________\n",
            " Layer (type)                Output Shape              Param #   \n",
            "=================================================================\n",
            " embedding_1 (Embedding)     (None, 50, 16)            16000     \n",
            "                                                                 \n",
            " bidirectional (Bidirectiona  (None, 32)               4224      \n",
            " l)                                                              \n",
            "                                                                 \n",
            " dense_2 (Dense)             (None, 6)                 198       \n",
            "                                                                 \n",
            " dense_3 (Dense)             (None, 1)                 7         \n",
            "                                                                 \n",
            "=================================================================\n",
            "Total params: 20,429\n",
            "Trainable params: 20,429\n",
            "Non-trainable params: 0\n",
            "_________________________________________________________________\n",
            "Epoch 1/30\n",
            "50/50 [==============================] - 13s 160ms/step - loss: 0.6928 - accuracy: 0.5072 - val_loss: 0.6910 - val_accuracy: 0.6642\n",
            "Epoch 2/30\n",
            "50/50 [==============================] - 4s 75ms/step - loss: 0.6792 - accuracy: 0.6535 - val_loss: 0.6295 - val_accuracy: 0.7093\n",
            "Epoch 3/30\n",
            "50/50 [==============================] - 2s 49ms/step - loss: 0.5847 - accuracy: 0.7571 - val_loss: 0.5785 - val_accuracy: 0.7243\n",
            "Epoch 4/30\n",
            "50/50 [==============================] - 2s 34ms/step - loss: 0.4346 - accuracy: 0.8393 - val_loss: 0.5531 - val_accuracy: 0.7218\n",
            "Epoch 5/30\n",
            "50/50 [==============================] - 1s 23ms/step - loss: 0.3172 - accuracy: 0.8914 - val_loss: 0.5602 - val_accuracy: 0.7569\n",
            "Epoch 6/30\n",
            "50/50 [==============================] - 1s 27ms/step - loss: 0.2653 - accuracy: 0.9077 - val_loss: 0.5808 - val_accuracy: 0.7619\n",
            "Epoch 7/30\n",
            "50/50 [==============================] - 1s 25ms/step - loss: 0.1900 - accuracy: 0.9379 - val_loss: 0.6614 - val_accuracy: 0.7218\n",
            "Epoch 8/30\n",
            "50/50 [==============================] - 0s 9ms/step - loss: 0.1454 - accuracy: 0.9586 - val_loss: 0.7160 - val_accuracy: 0.7594\n",
            "Epoch 9/30\n",
            "50/50 [==============================] - 1s 23ms/step - loss: 0.1012 - accuracy: 0.9774 - val_loss: 0.8121 - val_accuracy: 0.7644\n",
            "Epoch 10/30\n",
            "50/50 [==============================] - 1s 26ms/step - loss: 0.0882 - accuracy: 0.9793 - val_loss: 0.8843 - val_accuracy: 0.7218\n",
            "Epoch 11/30\n",
            "50/50 [==============================] - 1s 26ms/step - loss: 0.0783 - accuracy: 0.9831 - val_loss: 0.9730 - val_accuracy: 0.7594\n",
            "Epoch 12/30\n",
            "50/50 [==============================] - 0s 9ms/step - loss: 0.0585 - accuracy: 0.9874 - val_loss: 1.0011 - val_accuracy: 0.7569\n",
            "Epoch 13/30\n",
            "50/50 [==============================] - 1s 12ms/step - loss: 0.0769 - accuracy: 0.9831 - val_loss: 1.0725 - val_accuracy: 0.7494\n",
            "Epoch 14/30\n",
            "50/50 [==============================] - 1s 14ms/step - loss: 0.0419 - accuracy: 0.9931 - val_loss: 1.1543 - val_accuracy: 0.7168\n",
            "Epoch 15/30\n",
            "50/50 [==============================] - 1s 15ms/step - loss: 0.0420 - accuracy: 0.9925 - val_loss: 1.3010 - val_accuracy: 0.7519\n",
            "Epoch 16/30\n",
            "50/50 [==============================] - 1s 15ms/step - loss: 0.0462 - accuracy: 0.9893 - val_loss: 1.2401 - val_accuracy: 0.7343\n",
            "Epoch 17/30\n",
            "50/50 [==============================] - 1s 19ms/step - loss: 0.0312 - accuracy: 0.9950 - val_loss: 1.3264 - val_accuracy: 0.7318\n",
            "Epoch 18/30\n",
            "50/50 [==============================] - 1s 20ms/step - loss: 0.0261 - accuracy: 0.9962 - val_loss: 1.3755 - val_accuracy: 0.7368\n",
            "Epoch 19/30\n",
            "50/50 [==============================] - 1s 10ms/step - loss: 0.0225 - accuracy: 0.9962 - val_loss: 1.4187 - val_accuracy: 0.7318\n",
            "Epoch 20/30\n",
            "50/50 [==============================] - 1s 15ms/step - loss: 0.0211 - accuracy: 0.9969 - val_loss: 1.5002 - val_accuracy: 0.7368\n",
            "Epoch 21/30\n",
            "50/50 [==============================] - 1s 12ms/step - loss: 0.0173 - accuracy: 0.9975 - val_loss: 1.4923 - val_accuracy: 0.7368\n",
            "Epoch 22/30\n",
            "50/50 [==============================] - 0s 10ms/step - loss: 0.0164 - accuracy: 0.9975 - val_loss: 1.4583 - val_accuracy: 0.7218\n",
            "Epoch 23/30\n",
            "50/50 [==============================] - 1s 13ms/step - loss: 0.0136 - accuracy: 0.9981 - val_loss: 1.5306 - val_accuracy: 0.7318\n",
            "Epoch 24/30\n",
            "50/50 [==============================] - 1s 12ms/step - loss: 0.0103 - accuracy: 0.9987 - val_loss: 1.5460 - val_accuracy: 0.7343\n",
            "Epoch 25/30\n",
            "50/50 [==============================] - 1s 12ms/step - loss: 0.0097 - accuracy: 0.9987 - val_loss: 1.5787 - val_accuracy: 0.7343\n",
            "Epoch 26/30\n",
            "50/50 [==============================] - 1s 13ms/step - loss: 0.0093 - accuracy: 0.9987 - val_loss: 1.5860 - val_accuracy: 0.7343\n",
            "Epoch 27/30\n",
            "50/50 [==============================] - 0s 9ms/step - loss: 0.0085 - accuracy: 0.9987 - val_loss: 1.5135 - val_accuracy: 0.7268\n",
            "Epoch 28/30\n",
            "50/50 [==============================] - 1s 15ms/step - loss: 0.0651 - accuracy: 0.9831 - val_loss: 1.3267 - val_accuracy: 0.7419\n",
            "Epoch 29/30\n",
            "50/50 [==============================] - 0s 9ms/step - loss: 0.0609 - accuracy: 0.9799 - val_loss: 1.3198 - val_accuracy: 0.7343\n",
            "Epoch 30/30\n",
            "50/50 [==============================] - 0s 9ms/step - loss: 0.0209 - accuracy: 0.9944 - val_loss: 1.4388 - val_accuracy: 0.7218\n"
          ]
        },
        {
          "output_type": "display_data",
          "data": {
            "text/plain": [
              "<Figure size 640x480 with 1 Axes>"
            ],
            "image/png": "[encoded data removed]"
          },
          "metadata": {}
        },
        {
          "output_type": "display_data",
          "data": {
            "text/plain": [
              "<Figure size 640x480 with 1 Axes>"
            ],
            "image/png": "[encoded data removed]"
          },
          "metadata": {}
        },
        {
          "output_type": "stream",
          "name": "stdout",
          "text": [
            "1/1 [==============================] - 1s 889ms/step\n",
            "[  4 281  16  25   0   0   0   0   0   0   0   0   0   0   0   0   0   0\n",
            "   0   0   0   0   0   0   0   0   0   0   0   0   0   0   0   0   0   0\n",
            "   0   0   0   0   0   0   0   0   0   0   0   0   0   0]\n",
            "I love this phone\n",
            "[0.994692]\n",
            "\n",
            "\n",
            "[812 227 864 100 775   9 525 843   0   0   0   0   0   0   0   0   0   0\n",
            "   0   0   0   0   0   0   0   0   0   0   0   0   0   0   0   0   0   0\n",
            "   0   0   0   0   0   0   0   0   0   0   0   0   0   0]\n",
            "Everything was cold\n",
            "[0.00010782]\n",
            "\n",
            "\n",
            "[812 227 864 100 775   9 109   8 333 731  24  61   4 171  59  77   0   0\n",
            "   0   0   0   0   0   0   0   0   0   0   0   0   0   0   0   0   0   0\n",
            "   0   0   0   0   0   0   0   0   0   0   0   0   0   0]\n",
            "Everything was hot exactly as I wanted\n",
            "[0.9944628]\n",
            "\n",
            "\n",
            "[812 227 864 100 775   9 157 359 853   0   0   0   0   0   0   0   0   0\n",
            "   0   0   0   0   0   0   0   0   0   0   0   0   0   0   0   0   0   0\n",
            "   0   0   0   0   0   0   0   0   0   0   0   0   0   0]\n",
            "Everything was green\n",
            "[0.14600646]\n",
            "\n",
            "\n",
            "[  1 109 228 540 237 635 241 423 340  89 298   0   0   0   0   0   0   0\n",
            "   0   0   0   0   0   0   0   0   0   0   0   0   0   0   0   0   0   0\n",
            "   0   0   0   0   0   0   0   0   0   0   0   0   0   0]\n",
            "the host seated us immediately\n",
            "[0.9921428]\n",
            "\n",
            "\n",
            "[154 242  47 635 341  12 569 547 147 319 775 125  85   0   0   0   0   0\n",
            "   0   0   0   0   0   0   0   0   0   0   0   0   0   0   0   0   0   0\n",
            "   0   0   0   0   0   0   0   0   0   0   0   0   0   0]\n",
            "they gave us free chocolate cake\n",
            "[0.99286884]\n",
            "\n",
            "\n",
            "[158 190 853 782   8 607 775 210 232 146 775 470  67 305 101  15   1 328\n",
            " 296  26  19   1 661 641 195   0   0   0   0   0   0   0   0   0   0   0\n",
            "   0   0   0   0   0   0   0   0   0   0   0   0   0   0]\n",
            "we couldn't hear each other talk because of the shouting in the kitchen\n",
            "[0.00015066]\n",
            "\n",
            "\n"
          ]
        }
      ],
      "source": [
        "# Define the model\n",
        "model_bidi_lstm = tf.keras.Sequential([\n",
        "    tf.keras.layers.Embedding(vocab_size, embedding_dim, input_length=max_length),\n",
        "    tf.keras.layers.Bidirectional(tf.keras.layers.LSTM(embedding_dim)), \n",
        "    tf.keras.layers.Dense(6, activation='relu'), \n",
        "    tf.keras.layers.Dense(1, activation='sigmoid')\n",
        "])\n",
        "\n",
        "# Compile and train the model and then show the predictions for our extra sentences\n",
        "fit_model_and_show_results(model_bidi_lstm, fake_reviews)\n"
      ]
    },
    {
      "cell_type": "markdown",
      "metadata": {
        "id": "QsxKPbCnPJTj"
      },
      "source": [
        "# Use multiple bidirectional layers\n",
        "\n",
        "Now let's see if we get any improvements from adding another Bidirectional LSTM layer to the model.\n",
        "\n",
        "Notice that the first Bidirectionl LSTM layer returns a sequence."
      ]
    },
    {
      "cell_type": "code",
      "execution_count": 18,
      "metadata": {
        "id": "3N6Zul47PMED",
        "colab": {
          "base_uri": "https://localhost:8080/",
          "height": 1000
        },
        "outputId": "5d963fd5-7ce6-412d-dc36-5bf30a16d53f"
      },
      "outputs": [
        {
          "output_type": "stream",
          "name": "stdout",
          "text": [
            "Model: \"sequential_2\"\n",
            "_________________________________________________________________\n",
            " Layer (type)                Output Shape              Param #   \n",
            "=================================================================\n",
            " embedding_2 (Embedding)     (None, 50, 16)            16000     \n",
            "                                                                 \n",
            " bidirectional_1 (Bidirectio  (None, 50, 32)           4224      \n",
            " nal)                                                            \n",
            "                                                                 \n",
            " bidirectional_2 (Bidirectio  (None, 32)               6272      \n",
            " nal)                                                            \n",
            "                                                                 \n",
            " dense_4 (Dense)             (None, 6)                 198       \n",
            "                                                                 \n",
            " dense_5 (Dense)             (None, 1)                 7         \n",
            "                                                                 \n",
            "=================================================================\n",
            "Total params: 26,701\n",
            "Trainable params: 26,701\n",
            "Non-trainable params: 0\n",
            "_________________________________________________________________\n",
            "Epoch 1/30\n",
            "50/50 [==============================] - 15s 158ms/step - loss: 0.6906 - accuracy: 0.5198 - val_loss: 0.6963 - val_accuracy: 0.4361\n",
            "Epoch 2/30\n",
            "50/50 [==============================] - 3s 64ms/step - loss: 0.5954 - accuracy: 0.6868 - val_loss: 0.5262 - val_accuracy: 0.7419\n",
            "Epoch 3/30\n",
            "50/50 [==============================] - 3s 52ms/step - loss: 0.4058 - accuracy: 0.8336 - val_loss: 0.5884 - val_accuracy: 0.7118\n",
            "Epoch 4/30\n",
            "50/50 [==============================] - 3s 55ms/step - loss: 0.3175 - accuracy: 0.8782 - val_loss: 0.5455 - val_accuracy: 0.7544\n",
            "Epoch 5/30\n",
            "50/50 [==============================] - 2s 36ms/step - loss: 0.2566 - accuracy: 0.9077 - val_loss: 0.7112 - val_accuracy: 0.6892\n",
            "Epoch 6/30\n",
            "50/50 [==============================] - 1s 23ms/step - loss: 0.2532 - accuracy: 0.9115 - val_loss: 0.6469 - val_accuracy: 0.7393\n",
            "Epoch 7/30\n",
            "50/50 [==============================] - 1s 28ms/step - loss: 0.1826 - accuracy: 0.9441 - val_loss: 0.6999 - val_accuracy: 0.7519\n",
            "Epoch 8/30\n",
            "50/50 [==============================] - 1s 22ms/step - loss: 0.1622 - accuracy: 0.9554 - val_loss: 0.7745 - val_accuracy: 0.7519\n",
            "Epoch 9/30\n",
            "50/50 [==============================] - 1s 30ms/step - loss: 0.1536 - accuracy: 0.9567 - val_loss: 0.8134 - val_accuracy: 0.7268\n",
            "Epoch 10/30\n",
            "50/50 [==============================] - 1s 22ms/step - loss: 0.1621 - accuracy: 0.9479 - val_loss: 0.7638 - val_accuracy: 0.7393\n",
            "Epoch 11/30\n",
            "50/50 [==============================] - 1s 22ms/step - loss: 0.1507 - accuracy: 0.9554 - val_loss: 0.8733 - val_accuracy: 0.7393\n",
            "Epoch 12/30\n",
            "50/50 [==============================] - 1s 22ms/step - loss: 0.1228 - accuracy: 0.9655 - val_loss: 0.8923 - val_accuracy: 0.7368\n",
            "Epoch 13/30\n",
            "50/50 [==============================] - 2s 31ms/step - loss: 0.0990 - accuracy: 0.9768 - val_loss: 0.8829 - val_accuracy: 0.7494\n",
            "Epoch 14/30\n",
            "50/50 [==============================] - 2s 32ms/step - loss: 0.1121 - accuracy: 0.9667 - val_loss: 0.8773 - val_accuracy: 0.7318\n",
            "Epoch 15/30\n",
            "50/50 [==============================] - 1s 17ms/step - loss: 0.0971 - accuracy: 0.9761 - val_loss: 0.9109 - val_accuracy: 0.7318\n",
            "Epoch 16/30\n",
            "50/50 [==============================] - 1s 19ms/step - loss: 0.0729 - accuracy: 0.9837 - val_loss: 0.9922 - val_accuracy: 0.7419\n",
            "Epoch 17/30\n",
            "50/50 [==============================] - 1s 22ms/step - loss: 0.0795 - accuracy: 0.9799 - val_loss: 0.9966 - val_accuracy: 0.7469\n",
            "Epoch 18/30\n",
            "50/50 [==============================] - 1s 16ms/step - loss: 0.0766 - accuracy: 0.9805 - val_loss: 1.1126 - val_accuracy: 0.7243\n",
            "Epoch 19/30\n",
            "50/50 [==============================] - 1s 18ms/step - loss: 0.0764 - accuracy: 0.9812 - val_loss: 0.9090 - val_accuracy: 0.7544\n",
            "Epoch 20/30\n",
            "50/50 [==============================] - 1s 14ms/step - loss: 0.0819 - accuracy: 0.9761 - val_loss: 1.0000 - val_accuracy: 0.7343\n",
            "Epoch 21/30\n",
            "50/50 [==============================] - 1s 17ms/step - loss: 0.0624 - accuracy: 0.9862 - val_loss: 1.1094 - val_accuracy: 0.7469\n",
            "Epoch 22/30\n",
            "50/50 [==============================] - 1s 14ms/step - loss: 0.0678 - accuracy: 0.9812 - val_loss: 1.1313 - val_accuracy: 0.7393\n",
            "Epoch 23/30\n",
            "50/50 [==============================] - 1s 17ms/step - loss: 0.0611 - accuracy: 0.9831 - val_loss: 1.1343 - val_accuracy: 0.7268\n",
            "Epoch 24/30\n",
            "50/50 [==============================] - 1s 22ms/step - loss: 0.0606 - accuracy: 0.9843 - val_loss: 1.0766 - val_accuracy: 0.7268\n",
            "Epoch 25/30\n",
            "50/50 [==============================] - 2s 31ms/step - loss: 0.0522 - accuracy: 0.9874 - val_loss: 1.1639 - val_accuracy: 0.7293\n",
            "Epoch 26/30\n",
            "50/50 [==============================] - 1s 19ms/step - loss: 0.0403 - accuracy: 0.9918 - val_loss: 1.2381 - val_accuracy: 0.7318\n",
            "Epoch 27/30\n",
            "50/50 [==============================] - 1s 15ms/step - loss: 0.0350 - accuracy: 0.9931 - val_loss: 1.2735 - val_accuracy: 0.7368\n",
            "Epoch 28/30\n",
            "50/50 [==============================] - 1s 14ms/step - loss: 0.0310 - accuracy: 0.9931 - val_loss: 1.3379 - val_accuracy: 0.7368\n",
            "Epoch 29/30\n",
            "50/50 [==============================] - 1s 17ms/step - loss: 0.0295 - accuracy: 0.9937 - val_loss: 1.4041 - val_accuracy: 0.7343\n",
            "Epoch 30/30\n",
            "50/50 [==============================] - 1s 21ms/step - loss: 0.0343 - accuracy: 0.9925 - val_loss: 1.4749 - val_accuracy: 0.7143\n"
          ]
        },
        {
          "output_type": "display_data",
          "data": {
            "text/plain": [
              "<Figure size 640x480 with 1 Axes>"
            ],
            "image/png": "[encoded data removed]"
          },
          "metadata": {}
        },
        {
          "output_type": "display_data",
          "data": {
            "text/plain": [
              "<Figure size 640x480 with 1 Axes>"
            ],
            "image/png": "[encoded data removed]"
          },
          "metadata": {}
        },
        {
          "output_type": "stream",
          "name": "stdout",
          "text": [
            "1/1 [==============================] - 1s 1s/step\n",
            "[  4 281  16  25   0   0   0   0   0   0   0   0   0   0   0   0   0   0\n",
            "   0   0   0   0   0   0   0   0   0   0   0   0   0   0   0   0   0   0\n",
            "   0   0   0   0   0   0   0   0   0   0   0   0   0   0]\n",
            "I love this phone\n",
            "[0.9980404]\n",
            "\n",
            "\n",
            "[812 227 864 100 775   9 525 843   0   0   0   0   0   0   0   0   0   0\n",
            "   0   0   0   0   0   0   0   0   0   0   0   0   0   0   0   0   0   0\n",
            "   0   0   0   0   0   0   0   0   0   0   0   0   0   0]\n",
            "Everything was cold\n",
            "[0.00240928]\n",
            "\n",
            "\n",
            "[812 227 864 100 775   9 109   8 333 731  24  61   4 171  59  77   0   0\n",
            "   0   0   0   0   0   0   0   0   0   0   0   0   0   0   0   0   0   0\n",
            "   0   0   0   0   0   0   0   0   0   0   0   0   0   0]\n",
            "Everything was hot exactly as I wanted\n",
            "[0.9528219]\n",
            "\n",
            "\n",
            "[812 227 864 100 775   9 157 359 853   0   0   0   0   0   0   0   0   0\n",
            "   0   0   0   0   0   0   0   0   0   0   0   0   0   0   0   0   0   0\n",
            "   0   0   0   0   0   0   0   0   0   0   0   0   0   0]\n",
            "Everything was green\n",
            "[0.00226507]\n",
            "\n",
            "\n",
            "[  1 109 228 540 237 635 241 423 340  89 298   0   0   0   0   0   0   0\n",
            "   0   0   0   0   0   0   0   0   0   0   0   0   0   0   0   0   0   0\n",
            "   0   0   0   0   0   0   0   0   0   0   0   0   0   0]\n",
            "the host seated us immediately\n",
            "[0.00899365]\n",
            "\n",
            "\n",
            "[154 242  47 635 341  12 569 547 147 319 775 125  85   0   0   0   0   0\n",
            "   0   0   0   0   0   0   0   0   0   0   0   0   0   0   0   0   0   0\n",
            "   0   0   0   0   0   0   0   0   0   0   0   0   0   0]\n",
            "they gave us free chocolate cake\n",
            "[0.9982799]\n",
            "\n",
            "\n",
            "[158 190 853 782   8 607 775 210 232 146 775 470  67 305 101  15   1 328\n",
            " 296  26  19   1 661 641 195   0   0   0   0   0   0   0   0   0   0   0\n",
            "   0   0   0   0   0   0   0   0   0   0   0   0   0   0]\n",
            "we couldn't hear each other talk because of the shouting in the kitchen\n",
            "[0.00218499]\n",
            "\n",
            "\n"
          ]
        }
      ],
      "source": [
        "model_multiple_bidi_lstm = tf.keras.Sequential([\n",
        "    tf.keras.layers.Embedding(vocab_size, embedding_dim, input_length=max_length),\n",
        "    tf.keras.layers.Bidirectional(tf.keras.layers.LSTM(embedding_dim, \n",
        "                                                       return_sequences=True)), \n",
        "    tf.keras.layers.Bidirectional(tf.keras.layers.LSTM(embedding_dim)),\n",
        "    tf.keras.layers.Dense(6, activation='relu'),\n",
        "    tf.keras.layers.Dense(1, activation='sigmoid')\n",
        "])\n",
        "\n",
        "fit_model_and_show_results(model_multiple_bidi_lstm, fake_reviews)"
      ]
    },
    {
      "cell_type": "markdown",
      "metadata": {
        "id": "ABVYYPwba8Hx"
      },
      "source": [
        "# Compare predictions for all the models\n",
        "\n",
        "It can be hard to see which model gives a better prediction for different reviews when you examine each model separately. So for comparison purposes, here we define some more reviews and print out the predictions that each of the three models gives for each review:\n",
        "\n",
        "*   Embeddings and a Global Average Pooling layer\n",
        "*   Embeddings and a Bidirectional LSTM layer\n",
        "*   Embeddings and two Bidirectional LSTM layers\n",
        "\n",
        "The results are not always what you might expect. The input dataset is fairly small, it has less than 2000 reviews. Some of the reviews are fairly short, and some of the short ones are fairly repetitive which reduces their impact on improving the  model, such as these two reviews:\n",
        "\n",
        "*   Bad Quality.\n",
        "*   Low Quality.\n",
        "\n",
        "Feel free to add more reviews of your own, or change the reviews. The results will depend on the combination of words in the reviews, and how well they match to reviews in the training set. \n",
        "\n",
        "How do the different models handle things like \"wasn't good\" which contains a positive word (good) but is a poor review?\n"
      ]
    },
    {
      "cell_type": "code",
      "execution_count": 19,
      "metadata": {
        "id": "6XebrXt0jtOy"
      },
      "outputs": [],
      "source": [
        "my_reviews =[\"lovely\", \"dreadful\", \"stay away\",\n",
        "             \"everything was hot exactly as I wanted\",\n",
        "             \"everything was not exactly as I wanted\",\n",
        "             \"they gave us free chocolate cake\",\n",
        "             \"I've never eaten anything so spicy in my life, my throat burned for hours\",\n",
        "             \"for a phone that is as expensive as this one I expect it to be much easier to use than this thing is\",\n",
        "             \"we left there very full for a low price so I'd say you just can't go wrong at this place\",\n",
        "             \"that place does not have quality meals and it isn't a good place to go for dinner\",\n",
        "             ]"
      ]
    },
    {
      "cell_type": "code",
      "execution_count": 20,
      "metadata": {
        "id": "tRWGjkJLkY2y",
        "colab": {
          "base_uri": "https://localhost:8080/"
        },
        "outputId": "23a7e216-324d-4f30-fee5-989713cab7b3"
      },
      "outputs": [
        {
          "output_type": "stream",
          "name": "stdout",
          "text": [
            "===================================\n",
            " Embeddings only:\n",
            " ===================================\n",
            "1/1 [==============================] - 0s 17ms/step\n",
            "lovely\n",
            "[0.86853445]\n",
            "\n",
            "\n",
            "dreadful\n",
            "[0.2915295]\n",
            "\n",
            "\n",
            "stay away\n",
            "[0.58187366]\n",
            "\n",
            "\n",
            "everything was hot exactly as I wanted\n",
            "[0.6726906]\n",
            "\n",
            "\n",
            "everything was not exactly as I wanted\n",
            "[0.40877077]\n",
            "\n",
            "\n",
            "they gave us free chocolate cake\n",
            "[0.670191]\n",
            "\n",
            "\n",
            "I've never eaten anything so spicy in my life, my throat burned for hours\n",
            "[0.05789985]\n",
            "\n",
            "\n",
            "for a phone that is as expensive as this one I expect it to be much easier to use than this thing is\n",
            "[0.37494376]\n",
            "\n",
            "\n",
            "we left there very full for a low price so I'd say you just can't go wrong at this place\n",
            "[0.7363269]\n",
            "\n",
            "\n",
            "that place does not have quality meals and it isn't a good place to go for dinner\n",
            "[0.7841631]\n",
            "\n",
            "\n"
          ]
        }
      ],
      "source": [
        "print(\"===================================\\n\",\"Embeddings only:\\n\", \"===================================\",)\n",
        "predict_review(model, my_reviews, show_padded_sequence=False)"
      ]
    },
    {
      "cell_type": "code",
      "execution_count": 21,
      "metadata": {
        "id": "G2FJR3IVBt30",
        "colab": {
          "base_uri": "https://localhost:8080/"
        },
        "outputId": "2e0fe2bd-a114-4cf7-ab3b-bc2095a7d47f"
      },
      "outputs": [
        {
          "output_type": "stream",
          "name": "stdout",
          "text": [
            "===================================\n",
            " With a single bidirectional LSTM:\n",
            " ===================================\n",
            "1/1 [==============================] - 0s 21ms/step\n",
            "lovely\n",
            "[0.9926555]\n",
            "\n",
            "\n",
            "dreadful\n",
            "[0.00052891]\n",
            "\n",
            "\n",
            "stay away\n",
            "[0.00805508]\n",
            "\n",
            "\n",
            "everything was hot exactly as I wanted\n",
            "[0.9950736]\n",
            "\n",
            "\n",
            "everything was not exactly as I wanted\n",
            "[0.9755604]\n",
            "\n",
            "\n",
            "they gave us free chocolate cake\n",
            "[0.99286884]\n",
            "\n",
            "\n",
            "I've never eaten anything so spicy in my life, my throat burned for hours\n",
            "[0.0931248]\n",
            "\n",
            "\n",
            "for a phone that is as expensive as this one I expect it to be much easier to use than this thing is\n",
            "[0.99393576]\n",
            "\n",
            "\n",
            "we left there very full for a low price so I'd say you just can't go wrong at this place\n",
            "[0.9349863]\n",
            "\n",
            "\n",
            "that place does not have quality meals and it isn't a good place to go for dinner\n",
            "[0.29046044]\n",
            "\n",
            "\n"
          ]
        }
      ],
      "source": [
        "print(\"===================================\\n\", \"With a single bidirectional LSTM:\\n\", \"===================================\")\n",
        "predict_review(model_bidi_lstm, my_reviews, show_padded_sequence=False)"
      ]
    },
    {
      "cell_type": "code",
      "execution_count": 22,
      "metadata": {
        "id": "81v1r3Y2BwvC",
        "colab": {
          "base_uri": "https://localhost:8080/"
        },
        "outputId": "d5fd09a1-b145-48f4-c58d-0cd7d1df613a"
      },
      "outputs": [
        {
          "output_type": "stream",
          "name": "stdout",
          "text": [
            "===================================\n",
            " With two bidirectional LSTMs:\n",
            " ===================================\n",
            "1/1 [==============================] - 0s 22ms/step\n",
            "lovely\n",
            "[0.99805117]\n",
            "\n",
            "\n",
            "dreadful\n",
            "[0.92735094]\n",
            "\n",
            "\n",
            "stay away\n",
            "[0.01417607]\n",
            "\n",
            "\n",
            "everything was hot exactly as I wanted\n",
            "[0.99723154]\n",
            "\n",
            "\n",
            "everything was not exactly as I wanted\n",
            "[0.00212487]\n",
            "\n",
            "\n",
            "they gave us free chocolate cake\n",
            "[0.9982799]\n",
            "\n",
            "\n",
            "I've never eaten anything so spicy in my life, my throat burned for hours\n",
            "[0.00223749]\n",
            "\n",
            "\n",
            "for a phone that is as expensive as this one I expect it to be much easier to use than this thing is\n",
            "[0.9946896]\n",
            "\n",
            "\n",
            "we left there very full for a low price so I'd say you just can't go wrong at this place\n",
            "[0.00212131]\n",
            "\n",
            "\n",
            "that place does not have quality meals and it isn't a good place to go for dinner\n",
            "[0.02599424]\n",
            "\n",
            "\n"
          ]
        }
      ],
      "source": [
        "print(\"===================================\\n\",\"With two bidirectional LSTMs:\\n\", \"===================================\")\n",
        "predict_review(model_multiple_bidi_lstm, my_reviews, show_padded_sequence=False)"
      ]
    }
  ],
  "metadata": {
    "accelerator": "GPU",
    "colab": {
      "provenance": [],
      "include_colab_link": true
    },
    "kernelspec": {
      "display_name": "Python 3",
      "name": "python3"
    }
  },
  "nbformat": 4,
  "nbformat_minor": 0
}